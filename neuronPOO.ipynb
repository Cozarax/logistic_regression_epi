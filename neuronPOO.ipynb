{
 "cells": [
  {
   "cell_type": "code",
   "execution_count": 3,
   "metadata": {},
   "outputs": [],
   "source": [
    "import numpy as np\n",
    "from tqdm import tqdm\n",
    "import matplotlib.pyplot as plt"
   ]
  },
  {
   "cell_type": "code",
   "execution_count": 3,
   "metadata": {},
   "outputs": [],
   "source": [
    "class artificial_neuron: \n",
    "  def __init__(self, n_iter = 100, learning_rate = 0.1):\n",
    "    self.coef_ = None\n",
    "    self.bias_ = None\n",
    "    self.n_iter_ = n_iter\n",
    "    self.learning_rate_ = learning_rate\n",
    "    self.loss_ = []\n",
    "\n",
    "  def predict_proba(self, X):\n",
    "    Z = X.dot(self.coef_) + self.bias_\n",
    "    return 1 / (1 + np.exp(-Z))\n",
    "  \n",
    "  def predict(self, X):\n",
    "    A = self.predict_proba(X)\n",
    "    return A >= 0.5\n",
    "  \n",
    "  def display_loss(self):\n",
    "    plt.plot(self.loss_)\n",
    "    plt.show()\n",
    "  \n",
    "  def log_loss(self, y, A):\n",
    "    epsilon = 10e-15\n",
    "    return 1 / len(y) * np.sum(-y * np.log(A + epsilon) - (1 - y) * np.log(1 - A + epsilon))\n",
    "  \n",
    "  \n",
    "  def fit(self, X, y):\n",
    "\n",
    "    # Initialisation \n",
    "    self.coef_ = np.random.randn(X.shape[1], 1)\n",
    "    self.bias_ = np.random.randn(1)\n",
    "    self.loss_ = []\n",
    "\n",
    "\n",
    "    # Apprentissage \n",
    "    for i in tqdm(range(self.n_iter_)):\n",
    "      # Activations\n",
    "      A = self.predict_proba(X)\n",
    "\n",
    "      # Loss\n",
    "      self.loss_.append(self.log_loss(y, A))\n",
    "\n",
    "      # Gradients\n",
    "      dCoef = 1 / len(y) * np.dot(X.T, A - y)\n",
    "      dBias = 1 / len(y) * np.sum(A - y)\n",
    "\n",
    "      self.coef_ = self.coef_ - self.learning_rate_* dCoef\n",
    "      self.bias_ = self.bias_ - self.learning_rate_ * dBias"
   ]
  }
 ],
 "metadata": {
  "kernelspec": {
   "display_name": "env0",
   "language": "python",
   "name": "python3"
  },
  "language_info": {
   "codemirror_mode": {
    "name": "ipython",
    "version": 3
   },
   "file_extension": ".py",
   "mimetype": "text/x-python",
   "name": "python",
   "nbconvert_exporter": "python",
   "pygments_lexer": "ipython3",
   "version": "3.10.12"
  }
 },
 "nbformat": 4,
 "nbformat_minor": 2
}
